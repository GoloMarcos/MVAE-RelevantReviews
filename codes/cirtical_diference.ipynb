{
  "nbformat": 4,
  "nbformat_minor": 0,
  "metadata": {
    "colab": {
      "name": "diagrama_diferenca_critica.ipynb",
      "provenance": [],
      "collapsed_sections": []
    },
    "kernelspec": {
      "name": "python3",
      "display_name": "Python 3"
    }
  },
  "cells": [
    {
      "cell_type": "code",
      "metadata": {
        "id": "za1l6CwH3H4Z",
        "colab": {
          "base_uri": "https://localhost:8080/",
          "height": 1000
        },
        "outputId": "12815e81-5e79-4e1b-9368-3a453cee3fd9"
      },
      "source": [
        "!pip install orange3"
      ],
      "execution_count": null,
      "outputs": [
        {
          "output_type": "stream",
          "name": "stdout",
          "text": [
            "Collecting orange3\n",
            "  Downloading Orange3-3.30.2-cp37-cp37m-manylinux_2_17_x86_64.manylinux2014_x86_64.whl (26.5 MB)\n",
            "\u001b[K     |████████████████████████████████| 26.5 MB 87 kB/s \n",
            "\u001b[?25hCollecting pygments>=2.8.0\n",
            "  Downloading Pygments-2.10.0-py3-none-any.whl (1.0 MB)\n",
            "\u001b[K     |████████████████████████████████| 1.0 MB 32.9 MB/s \n",
            "\u001b[?25hCollecting serverfiles\n",
            "  Downloading serverfiles-0.3.1.tar.gz (11 kB)\n",
            "Requirement already satisfied: networkx in /usr/local/lib/python3.7/dist-packages (from orange3) (2.6.3)\n",
            "Requirement already satisfied: scipy>=0.16.1 in /usr/local/lib/python3.7/dist-packages (from orange3) (1.4.1)\n",
            "Collecting baycomp>=1.0.2\n",
            "  Downloading baycomp-1.0.2-py3-none-any.whl (17 kB)\n",
            "Collecting keyrings.alt\n",
            "  Downloading keyrings.alt-4.1.0-py3-none-any.whl (20 kB)\n",
            "Collecting PyQt5!=5.15.1,>=5.12\n",
            "  Downloading PyQt5-5.15.6-cp36-abi3-manylinux1_x86_64.whl (8.3 MB)\n",
            "\u001b[K     |████████████████████████████████| 8.3 MB 29.9 MB/s \n",
            "\u001b[?25hRequirement already satisfied: matplotlib>=2.0.0 in /usr/local/lib/python3.7/dist-packages (from orange3) (3.2.2)\n",
            "Collecting openTSNE>=0.6.1\n",
            "  Downloading openTSNE-0.6.1-cp37-cp37m-manylinux_2_12_x86_64.manylinux2010_x86_64.whl (2.4 MB)\n",
            "\u001b[K     |████████████████████████████████| 2.4 MB 41.8 MB/s \n",
            "\u001b[?25hRequirement already satisfied: pip>=9.0 in /usr/local/lib/python3.7/dist-packages (from orange3) (21.1.3)\n",
            "Requirement already satisfied: pandas>=1.0.0 in /usr/local/lib/python3.7/dist-packages (from orange3) (1.1.5)\n",
            "Collecting keyring\n",
            "  Downloading keyring-23.2.1-py3-none-any.whl (33 kB)\n",
            "Collecting xlsxwriter\n",
            "  Downloading XlsxWriter-3.0.2-py3-none-any.whl (149 kB)\n",
            "\u001b[K     |████████████████████████████████| 149 kB 69.3 MB/s \n",
            "\u001b[?25hRequirement already satisfied: python-louvain>=0.13 in /usr/local/lib/python3.7/dist-packages (from orange3) (0.15)\n",
            "Requirement already satisfied: scikit-learn!=0.23.0,!=1.0.0,>=0.22.0 in /usr/local/lib/python3.7/dist-packages (from orange3) (1.0.1)\n",
            "Collecting AnyQt>=0.0.11\n",
            "  Downloading AnyQt-0.0.13-py3-none-any.whl (47 kB)\n",
            "\u001b[K     |████████████████████████████████| 47 kB 4.2 MB/s \n",
            "\u001b[?25hCollecting PyQtWebEngine>=5.12\n",
            "  Downloading PyQtWebEngine-5.15.5-cp36-abi3-manylinux1_x86_64.whl (228 kB)\n",
            "\u001b[K     |████████████████████████████████| 228 kB 71.9 MB/s \n",
            "\u001b[?25hRequirement already satisfied: setuptools>=36.3 in /usr/local/lib/python3.7/dist-packages (from orange3) (57.4.0)\n",
            "Collecting httpx<0.20,>=0.14.0\n",
            "  Downloading httpx-0.19.0-py3-none-any.whl (77 kB)\n",
            "\u001b[K     |████████████████████████████████| 77 kB 6.0 MB/s \n",
            "\u001b[?25hCollecting orange-canvas-core<0.2a,>=0.1.23\n",
            "  Downloading orange_canvas_core-0.1.23-py3-none-any.whl (489 kB)\n",
            "\u001b[K     |████████████████████████████████| 489 kB 45.3 MB/s \n",
            "\u001b[?25hRequirement already satisfied: pyyaml in /usr/local/lib/python3.7/dist-packages (from orange3) (3.13)\n",
            "Requirement already satisfied: chardet>=3.0.2 in /usr/local/lib/python3.7/dist-packages (from orange3) (3.0.4)\n",
            "Collecting pyqtgraph>=0.11.1\n",
            "  Downloading pyqtgraph-0.12.3-py3-none-any.whl (992 kB)\n",
            "\u001b[K     |████████████████████████████████| 992 kB 33.3 MB/s \n",
            "\u001b[?25hRequirement already satisfied: requests in /usr/local/lib/python3.7/dist-packages (from orange3) (2.23.0)\n",
            "Collecting orange-widget-base>=4.15.1\n",
            "  Downloading orange-widget-base-4.15.1.tar.gz (852 kB)\n",
            "\u001b[K     |████████████████████████████████| 852 kB 38.3 MB/s \n",
            "\u001b[?25hRequirement already satisfied: xlrd>=0.9.2 in /usr/local/lib/python3.7/dist-packages (from orange3) (1.1.0)\n",
            "Requirement already satisfied: openpyxl in /usr/local/lib/python3.7/dist-packages (from orange3) (2.5.9)\n",
            "Requirement already satisfied: bottleneck>=1.0.0 in /usr/local/lib/python3.7/dist-packages (from orange3) (1.3.2)\n",
            "Requirement already satisfied: numpy>=1.16.0 in /usr/local/lib/python3.7/dist-packages (from orange3) (1.19.5)\n",
            "Requirement already satisfied: joblib>=0.9.4 in /usr/local/lib/python3.7/dist-packages (from orange3) (1.1.0)\n",
            "Requirement already satisfied: qtconsole>=4.7.2 in /usr/local/lib/python3.7/dist-packages (from orange3) (5.2.0)\n",
            "Collecting rfc3986[idna2008]<2,>=1.3\n",
            "  Downloading rfc3986-1.5.0-py2.py3-none-any.whl (31 kB)\n",
            "Collecting httpcore<0.14.0,>=0.13.3\n",
            "  Downloading httpcore-0.13.7-py3-none-any.whl (58 kB)\n",
            "\u001b[K     |████████████████████████████████| 58 kB 5.8 MB/s \n",
            "\u001b[?25hCollecting sniffio\n",
            "  Downloading sniffio-1.2.0-py3-none-any.whl (10 kB)\n",
            "Requirement already satisfied: certifi in /usr/local/lib/python3.7/dist-packages (from httpx<0.20,>=0.14.0->orange3) (2021.10.8)\n",
            "Requirement already satisfied: charset-normalizer in /usr/local/lib/python3.7/dist-packages (from httpx<0.20,>=0.14.0->orange3) (2.0.7)\n",
            "Collecting anyio==3.*\n",
            "  Downloading anyio-3.3.4-py3-none-any.whl (78 kB)\n",
            "\u001b[K     |████████████████████████████████| 78 kB 6.3 MB/s \n",
            "\u001b[?25hCollecting h11<0.13,>=0.11\n",
            "  Downloading h11-0.12.0-py3-none-any.whl (54 kB)\n",
            "\u001b[K     |████████████████████████████████| 54 kB 3.4 MB/s \n",
            "\u001b[?25hRequirement already satisfied: typing-extensions in /usr/local/lib/python3.7/dist-packages (from anyio==3.*->httpcore<0.14.0,>=0.13.3->httpx<0.20,>=0.14.0->orange3) (3.10.0.2)\n",
            "Requirement already satisfied: idna>=2.8 in /usr/local/lib/python3.7/dist-packages (from anyio==3.*->httpcore<0.14.0,>=0.13.3->httpx<0.20,>=0.14.0->orange3) (2.10)\n",
            "Requirement already satisfied: cycler>=0.10 in /usr/local/lib/python3.7/dist-packages (from matplotlib>=2.0.0->orange3) (0.11.0)\n",
            "Requirement already satisfied: python-dateutil>=2.1 in /usr/local/lib/python3.7/dist-packages (from matplotlib>=2.0.0->orange3) (2.8.2)\n",
            "Requirement already satisfied: pyparsing!=2.0.4,!=2.1.2,!=2.1.6,>=2.0.1 in /usr/local/lib/python3.7/dist-packages (from matplotlib>=2.0.0->orange3) (2.4.7)\n",
            "Requirement already satisfied: kiwisolver>=1.0.1 in /usr/local/lib/python3.7/dist-packages (from matplotlib>=2.0.0->orange3) (1.3.2)\n",
            "Requirement already satisfied: cachecontrol[filecache] in /usr/local/lib/python3.7/dist-packages (from orange-canvas-core<0.2a,>=0.1.23->orange3) (0.12.10)\n",
            "Collecting commonmark>=0.8.1\n",
            "  Downloading commonmark-0.9.1-py2.py3-none-any.whl (51 kB)\n",
            "\u001b[K     |████████████████████████████████| 51 kB 6.7 MB/s \n",
            "\u001b[?25hCollecting qasync\n",
            "  Downloading qasync-0.22.0-py3-none-any.whl (13 kB)\n",
            "Requirement already satisfied: docutils in /usr/local/lib/python3.7/dist-packages (from orange-canvas-core<0.2a,>=0.1.23->orange3) (0.18)\n",
            "Collecting dictdiffer\n",
            "  Downloading dictdiffer-0.9.0-py2.py3-none-any.whl (16 kB)\n",
            "Requirement already satisfied: importlib-metadata in /usr/local/lib/python3.7/dist-packages (from orange-canvas-core<0.2a,>=0.1.23->orange3) (4.8.2)\n",
            "Requirement already satisfied: pytz>=2017.2 in /usr/local/lib/python3.7/dist-packages (from pandas>=1.0.0->orange3) (2018.9)\n",
            "Collecting PyQt5-sip<13,>=12.8\n",
            "  Downloading PyQt5_sip-12.9.0-cp37-cp37m-manylinux1_x86_64.whl (317 kB)\n",
            "\u001b[K     |████████████████████████████████| 317 kB 54.7 MB/s \n",
            "\u001b[?25hCollecting PyQt5-Qt5>=5.15.2\n",
            "  Downloading PyQt5_Qt5-5.15.2-py3-none-manylinux2014_x86_64.whl (59.9 MB)\n",
            "\u001b[K     |████████████████████████████████| 59.9 MB 24 kB/s \n",
            "\u001b[?25hCollecting PyQtWebEngine-Qt5>=5.15.2\n",
            "  Downloading PyQtWebEngine_Qt5-5.15.2-py3-none-manylinux2014_x86_64.whl (67.5 MB)\n",
            "\u001b[K     |████████████████████████████████| 67.5 MB 24 kB/s \n",
            "\u001b[?25hRequirement already satisfied: six>=1.5 in /usr/local/lib/python3.7/dist-packages (from python-dateutil>=2.1->matplotlib>=2.0.0->orange3) (1.15.0)\n",
            "Requirement already satisfied: ipython-genutils in /usr/local/lib/python3.7/dist-packages (from qtconsole>=4.7.2->orange3) (0.2.0)\n",
            "Requirement already satisfied: traitlets in /usr/local/lib/python3.7/dist-packages (from qtconsole>=4.7.2->orange3) (5.1.1)\n",
            "Requirement already satisfied: pyzmq>=17.1 in /usr/local/lib/python3.7/dist-packages (from qtconsole>=4.7.2->orange3) (22.3.0)\n",
            "Requirement already satisfied: ipykernel>=4.1 in /usr/local/lib/python3.7/dist-packages (from qtconsole>=4.7.2->orange3) (4.10.1)\n",
            "Requirement already satisfied: jupyter-client>=4.1 in /usr/local/lib/python3.7/dist-packages (from qtconsole>=4.7.2->orange3) (5.3.5)\n",
            "Requirement already satisfied: qtpy in /usr/local/lib/python3.7/dist-packages (from qtconsole>=4.7.2->orange3) (1.11.2)\n",
            "Requirement already satisfied: jupyter-core in /usr/local/lib/python3.7/dist-packages (from qtconsole>=4.7.2->orange3) (4.9.1)\n",
            "Requirement already satisfied: tornado>=4.0 in /usr/local/lib/python3.7/dist-packages (from ipykernel>=4.1->qtconsole>=4.7.2->orange3) (5.1.1)\n",
            "Requirement already satisfied: ipython>=4.0.0 in /usr/local/lib/python3.7/dist-packages (from ipykernel>=4.1->qtconsole>=4.7.2->orange3) (5.5.0)\n",
            "Requirement already satisfied: decorator in /usr/local/lib/python3.7/dist-packages (from ipython>=4.0.0->ipykernel>=4.1->qtconsole>=4.7.2->orange3) (4.4.2)\n",
            "Requirement already satisfied: prompt-toolkit<2.0.0,>=1.0.4 in /usr/local/lib/python3.7/dist-packages (from ipython>=4.0.0->ipykernel>=4.1->qtconsole>=4.7.2->orange3) (1.0.18)\n",
            "Requirement already satisfied: simplegeneric>0.8 in /usr/local/lib/python3.7/dist-packages (from ipython>=4.0.0->ipykernel>=4.1->qtconsole>=4.7.2->orange3) (0.8.1)\n",
            "Requirement already satisfied: pickleshare in /usr/local/lib/python3.7/dist-packages (from ipython>=4.0.0->ipykernel>=4.1->qtconsole>=4.7.2->orange3) (0.7.5)\n",
            "Requirement already satisfied: pexpect in /usr/local/lib/python3.7/dist-packages (from ipython>=4.0.0->ipykernel>=4.1->qtconsole>=4.7.2->orange3) (4.8.0)\n",
            "Requirement already satisfied: wcwidth in /usr/local/lib/python3.7/dist-packages (from prompt-toolkit<2.0.0,>=1.0.4->ipython>=4.0.0->ipykernel>=4.1->qtconsole>=4.7.2->orange3) (0.2.5)\n",
            "Requirement already satisfied: threadpoolctl>=2.0.0 in /usr/local/lib/python3.7/dist-packages (from scikit-learn!=0.23.0,!=1.0.0,>=0.22.0->orange3) (3.0.0)\n",
            "Requirement already satisfied: msgpack>=0.5.2 in /usr/local/lib/python3.7/dist-packages (from cachecontrol[filecache]->orange-canvas-core<0.2a,>=0.1.23->orange3) (1.0.2)\n",
            "Collecting lockfile>=0.9\n",
            "  Downloading lockfile-0.12.2-py2.py3-none-any.whl (13 kB)\n",
            "Requirement already satisfied: zipp>=0.5 in /usr/local/lib/python3.7/dist-packages (from importlib-metadata->orange-canvas-core<0.2a,>=0.1.23->orange3) (3.6.0)\n",
            "Collecting SecretStorage>=3.2\n",
            "  Downloading SecretStorage-3.3.1-py3-none-any.whl (15 kB)\n",
            "Collecting jeepney>=0.4.2\n",
            "  Downloading jeepney-0.7.1-py3-none-any.whl (54 kB)\n",
            "\u001b[K     |████████████████████████████████| 54 kB 2.0 MB/s \n",
            "\u001b[?25hCollecting cryptography>=2.0\n",
            "  Downloading cryptography-35.0.0-cp36-abi3-manylinux_2_24_x86_64.whl (3.5 MB)\n",
            "\u001b[K     |████████████████████████████████| 3.5 MB 43.6 MB/s \n",
            "\u001b[?25hRequirement already satisfied: cffi>=1.12 in /usr/local/lib/python3.7/dist-packages (from cryptography>=2.0->SecretStorage>=3.2->keyring->orange3) (1.15.0)\n",
            "Requirement already satisfied: pycparser in /usr/local/lib/python3.7/dist-packages (from cffi>=1.12->cryptography>=2.0->SecretStorage>=3.2->keyring->orange3) (2.21)\n",
            "Requirement already satisfied: jdcal in /usr/local/lib/python3.7/dist-packages (from openpyxl->orange3) (1.4.1)\n",
            "Requirement already satisfied: et-xmlfile in /usr/local/lib/python3.7/dist-packages (from openpyxl->orange3) (1.1.0)\n",
            "Requirement already satisfied: ptyprocess>=0.5 in /usr/local/lib/python3.7/dist-packages (from pexpect->ipython>=4.0.0->ipykernel>=4.1->qtconsole>=4.7.2->orange3) (0.7.0)\n",
            "Requirement already satisfied: urllib3!=1.25.0,!=1.25.1,<1.26,>=1.21.1 in /usr/local/lib/python3.7/dist-packages (from requests->orange3) (1.24.3)\n",
            "Building wheels for collected packages: orange-widget-base, serverfiles\n",
            "  Building wheel for orange-widget-base (setup.py) ... \u001b[?25l\u001b[?25hdone\n",
            "  Created wheel for orange-widget-base: filename=orange_widget_base-4.15.1-py3-none-any.whl size=258179 sha256=f68cc4902ee17114b4aa00c1013380cb6b4f6ede27bbdc9117478608cfdc1d0a\n",
            "  Stored in directory: /root/.cache/pip/wheels/eb/c1/ed/515cb4b908126d207154b78bc0b63c9febe527aa42d3753350\n",
            "  Building wheel for serverfiles (setup.py) ... \u001b[?25l\u001b[?25hdone\n",
            "  Created wheel for serverfiles: filename=serverfiles-0.3.1-py3-none-any.whl size=6947 sha256=b2aef0e89c236085c806b82cb7eb70480b74a32ae47f824820d57ec5b905b911\n",
            "  Stored in directory: /root/.cache/pip/wheels/f4/36/15/fcfe21874746d5cd17c18b1e5501fbf86544da90d4ab6afe17\n",
            "Successfully built orange-widget-base serverfiles\n",
            "Installing collected packages: sniffio, pygments, lockfile, rfc3986, qasync, PyQt5-sip, PyQt5-Qt5, jeepney, h11, dictdiffer, cryptography, commonmark, AnyQt, anyio, SecretStorage, PyQtWebEngine-Qt5, pyqtgraph, PyQt5, orange-canvas-core, httpcore, xlsxwriter, serverfiles, PyQtWebEngine, orange-widget-base, openTSNE, keyrings.alt, keyring, httpx, baycomp, orange3\n",
            "  Attempting uninstall: pygments\n",
            "    Found existing installation: Pygments 2.6.1\n",
            "    Uninstalling Pygments-2.6.1:\n",
            "      Successfully uninstalled Pygments-2.6.1\n",
            "\u001b[31mERROR: pip's dependency resolver does not currently take into account all the packages that are installed. This behaviour is the source of the following dependency conflicts.\n",
            "datascience 0.10.6 requires folium==0.2.1, but you have folium 0.8.3 which is incompatible.\u001b[0m\n",
            "Successfully installed AnyQt-0.0.13 PyQt5-5.15.6 PyQt5-Qt5-5.15.2 PyQt5-sip-12.9.0 PyQtWebEngine-5.15.5 PyQtWebEngine-Qt5-5.15.2 SecretStorage-3.3.1 anyio-3.3.4 baycomp-1.0.2 commonmark-0.9.1 cryptography-35.0.0 dictdiffer-0.9.0 h11-0.12.0 httpcore-0.13.7 httpx-0.19.0 jeepney-0.7.1 keyring-23.2.1 keyrings.alt-4.1.0 lockfile-0.12.2 openTSNE-0.6.1 orange-canvas-core-0.1.23 orange-widget-base-4.15.1 orange3-3.30.2 pygments-2.10.0 pyqtgraph-0.12.3 qasync-0.22.0 rfc3986-1.5.0 serverfiles-0.3.1 sniffio-1.2.0 xlsxwriter-3.0.2\n"
          ]
        },
        {
          "output_type": "display_data",
          "data": {
            "application/vnd.colab-display-data+json": {
              "pip_warning": {
                "packages": [
                  "pygments"
                ]
              }
            }
          },
          "metadata": {}
        }
      ]
    },
    {
      "cell_type": "code",
      "metadata": {
        "id": "004ZoFpgDRgl"
      },
      "source": [
        "import Orange"
      ],
      "execution_count": null,
      "outputs": []
    },
    {
      "cell_type": "code",
      "metadata": {
        "id": "T30-q4yD3Jrv",
        "colab": {
          "base_uri": "https://localhost:8080/",
          "height": 224
        },
        "outputId": "be860828-d260-4820-c77f-7f3d841bd026"
      },
      "source": [
        "names = [\"Bow-tfidf\", \n",
        "         \"Bow-tf\", \n",
        "         \"AE\", \n",
        "         \"Bow-binary\", \n",
        "         \"VAE\", \n",
        "         \"MVAE\", \n",
        "         'MAE', \n",
        "         'Maalej', \n",
        "         'DBERTML', \n",
        "         'RARTR']\n",
        "\n",
        "avranks =  [7.625, \n",
        "            9.8125, \n",
        "            5.875, \n",
        "            9.1875, \n",
        "            3.75, \n",
        "            1.375, \n",
        "            1.625, \n",
        "            6, \n",
        "            3.375, \n",
        "            6.375]\n",
        "\n",
        "cd = Orange.evaluation.scoring.compute_CD(avranks, 8) # tested on 8 datasets\n",
        "\n",
        "Orange.evaluation.scoring.graph_ranks(avranks, names, cd=cd,filename=\"are_f1.png\")\n",
        "print(cd)"
      ],
      "execution_count": null,
      "outputs": [
        {
          "output_type": "stream",
          "name": "stdout",
          "text": [
            "4.789264491426285\n"
          ]
        },
        {
          "output_type": "display_data",
          "data": {
            "image/png": "[encoded data removed]",
            "text/plain": [
              "<Figure size 432x176.4 with 1 Axes>"
            ]
          },
          "metadata": {}
        }
      ]
    },
    {
      "cell_type": "code",
      "metadata": {
        "id": "J_QrhoeiDE5e",
        "colab": {
          "base_uri": "https://localhost:8080/",
          "height": 224
        },
        "outputId": "0e72edb5-1ddb-46b2-db58-d890033b625e"
      },
      "source": [
        "# BoW-term-frequency-IDF & 7.625\\\\\n",
        "# Bow-Binary & 10\\\\\n",
        "# AE & 6\\\\\n",
        "# BoW-term-frequency & 9\\\\\n",
        "# DBERTML & 3.75\\\\\n",
        "# Density & 7.25\\\\\n",
        "# Maalej & 4.5\\\\\n",
        "# VAE & 3.875\\\\\n",
        "# MAE & 1.75\\\\\n",
        "# MVAE & 1.25\\\\\n",
        "\n",
        "names = [\"Bow-tfidf\", \"Bow-tf\", \"AE\", \"Bow-binary\", \"VAE\", \"MVAE\", 'MAE', 'Maalej', 'DBERTML', 'RARTR']\n",
        "\n",
        "avranks =  [7.625, 9, 6, 10, 3.875, 1.25, 1.75, 4.5, 3.75, 7.25]\n",
        "\n",
        "cd = Orange.evaluation.scoring.compute_CD(avranks, 8) # tested on 8 datasets\n",
        "\n",
        "Orange.evaluation.scoring.graph_ranks(avranks, names, cd=cd,filename=\"are_auc.png\")\n",
        "print(cd)"
      ],
      "execution_count": null,
      "outputs": [
        {
          "output_type": "stream",
          "name": "stdout",
          "text": [
            "4.789264491426285\n"
          ]
        },
        {
          "output_type": "display_data",
          "data": {
            "image/png": "[encoded data removed]",
            "text/plain": [
              "<Figure size 432x176.4 with 1 Axes>"
            ]
          },
          "metadata": {}
        }
      ]
    },
    {
      "cell_type": "code",
      "metadata": {
        "colab": {
          "base_uri": "https://localhost:8080/",
          "height": 217
        },
        "id": "a2a5azvKZ4hg",
        "outputId": "24c68ac3-ab25-4f92-b569-a9ff29030616"
      },
      "source": [
        "# Bow-Binary & 7.625\\\\\n",
        "# BoW-term-frequency-IDF & 10\\\\\n",
        "# AE & 6.25\\\\\n",
        "# BoW-term-frequency & 9\\\\\n",
        "# DBERTML & 6.875\\\\\n",
        "# Density & 1.625\\\\\n",
        "# Maalej & 3.125\\\\\n",
        "# VAE & 5.25\\\\\n",
        "# MAE & 1.5\\\\\n",
        "# MVAE & 3.75\\\\\n",
        "\n",
        "names = [\"Bow-tfidf\", \"Bow-tf\", \"AE\", \"Bow-binary\", \"VAE\", \"MVAE\", 'MAE', 'Maalej', 'DBERTML', 'RARTR']\n",
        "\n",
        "avranks =  [10, 9, 6.25, 7.625, 5.25, 3.75, 1.5, 3.125, 6.875, 1.625]\n",
        "\n",
        "cd = Orange.evaluation.scoring.compute_CD(avranks, 8) # tested on 8 datasets\n",
        "\n",
        "Orange.evaluation.scoring.graph_ranks(avranks, names, cd=cd,filename=\"ten_f1.png\")\n",
        "print(cd)"
      ],
      "execution_count": null,
      "outputs": [
        {
          "output_type": "stream",
          "name": "stdout",
          "text": [
            "4.789264491426285\n"
          ]
        },
        {
          "output_type": "display_data",
          "data": {
            "image/png": "[encoded data removed]",
            "text/plain": [
              "<Figure size 432x169.2 with 1 Axes>"
            ]
          },
          "metadata": {}
        }
      ]
    },
    {
      "cell_type": "code",
      "metadata": {
        "colab": {
          "base_uri": "https://localhost:8080/",
          "height": 217
        },
        "id": "ZT3pIJttZ4-C",
        "outputId": "5f2b5168-f0bb-4e18-bba3-a65cc1fe6436"
      },
      "source": [
        "# Bow-Binary & 9.25\\\\\n",
        "# BoW-term-frequency-IDF & 6.875\\\\\n",
        "# AE & 6.75\\\\\n",
        "# BoW-term-frequency & 9.75\\\\\n",
        "# DBERTML & 7\\\\\n",
        "# Density & 3\\\\\n",
        "# Maalej & 1.375\\\\\n",
        "# VAE & 5.375\\\\\n",
        "# MAE & 1.875\\\\\n",
        "# MVAE & 3.75\\\\\n",
        "\n",
        "names = [\"Bow-tfidf\", \"Bow-tf\", \"AE\", \"Bow-binary\", \"VAE\", \"MVAE\", 'MAE', 'Maalej', 'DBERTML', 'RARTR']\n",
        "\n",
        "avranks =  [6.875, 9.75, 6.75, 9.25, 5.375, 3.75, 1.875, 1.375, 7, 3]\n",
        "\n",
        "cd = Orange.evaluation.scoring.compute_CD(avranks, 8) # tested on 8 datasets\n",
        "\n",
        "Orange.evaluation.scoring.graph_ranks(avranks, names, cd=cd,filename=\"ten_auc.png\")\n",
        "print(cd)"
      ],
      "execution_count": null,
      "outputs": [
        {
          "output_type": "stream",
          "name": "stdout",
          "text": [
            "4.789264491426285\n"
          ]
        },
        {
          "output_type": "display_data",
          "data": {
            "image/png": "[encoded data removed]",
            "text/plain": [
              "<Figure size 432x169.2 with 1 Axes>"
            ]
          },
          "metadata": {}
        }
      ]
    },
    {
      "cell_type": "code",
      "metadata": {
        "colab": {
          "base_uri": "https://localhost:8080/",
          "height": 217
        },
        "id": "cSwV1281Z9in",
        "outputId": "6339dbae-a0f0-40c1-ab1b-4138c501160c"
      },
      "source": [
        "# Bow-Binary & 9.125\\\\\n",
        "# AE & 6.25\\\\\n",
        "# BoW-term-frequency-IDF & 6.5\\\\\n",
        "# BoW-term-frequency & 9.625\\\\\n",
        "# DBERTML & 7.625\\\\\n",
        "# Density & 1.5\\\\\n",
        "# Maalej & 3.75\\\\\n",
        "# VAE & 5.875\\\\\n",
        "# MAE & 1.5\\\\\n",
        "# MVAE & 3.25\\\\\n",
        "\n",
        "names = [\"Bow-tfidf\", \"Bow-tf\", \"AE\", \"Bow-binary\", \"VAE\", \"MVAE\", 'MAE', 'Maalej', 'DBERTML', 'RARTR']\n",
        "\n",
        "avranks =  [6.5, 9.625, 6.25, 9.125, 5.875, 3.25, 1.5, 3.75, 7.625, 1.5]\n",
        "\n",
        "cd = Orange.evaluation.scoring.compute_CD(avranks, 8) # tested on 8 datasets\n",
        "\n",
        "Orange.evaluation.scoring.graph_ranks(avranks, names, cd=cd,filename=\"tit_f1.png\")\n",
        "print(cd)"
      ],
      "execution_count": null,
      "outputs": [
        {
          "output_type": "stream",
          "name": "stdout",
          "text": [
            "4.789264491426285\n"
          ]
        },
        {
          "output_type": "display_data",
          "data": {
            "image/png": "[encoded data removed]",
            "text/plain": [
              "<Figure size 432x169.2 with 1 Axes>"
            ]
          },
          "metadata": {}
        }
      ]
    },
    {
      "cell_type": "code",
      "metadata": {
        "colab": {
          "base_uri": "https://localhost:8080/",
          "height": 217
        },
        "id": "wn3hvDcrZ_Qy",
        "outputId": "838739b0-b28a-432b-9ab5-4dc1e7384196"
      },
      "source": [
        "# Bow-Binary & 10\\\\\n",
        "# AE & 7.5\\\\\n",
        "# BoW-term-frequency-IDF & 5.625\\\\\n",
        "# BoW-term-frequency & 9\\\\\n",
        "# DBERTML & 7.5\\\\\n",
        "# Density & 1.5\\\\\n",
        "# Maalej & 3\\\\\n",
        "# VAE & 5.375\\\\\n",
        "# MAE & 1.625\\\\\n",
        "# MVAE & 3.875\\\\\n",
        "\n",
        "names = [\"Bow-tfidf\", \"Bow-tf\", \"AE\", \"Bow-binary\", \"VAE\", \"MVAE\", 'MAE', 'Maalej', 'DBERTML', 'RARTR']\n",
        "\n",
        "avranks =  [5.625, 9, 7.5, 10, 5.375, 3.875, 1.625, 3, 7.5, 1.5]\n",
        "\n",
        "cd = Orange.evaluation.scoring.compute_CD(avranks, 8) # tested on 8 datasets\n",
        "\n",
        "Orange.evaluation.scoring.graph_ranks(avranks, names, cd=cd,filename=\"tit_auc.png\")\n",
        "print(cd)"
      ],
      "execution_count": null,
      "outputs": [
        {
          "output_type": "stream",
          "name": "stdout",
          "text": [
            "4.789264491426285\n"
          ]
        },
        {
          "output_type": "display_data",
          "data": {
            "image/png": "[encoded data removed]",
            "text/plain": [
              "<Figure size 432x169.2 with 1 Axes>"
            ]
          },
          "metadata": {}
        }
      ]
    }
  ]
}